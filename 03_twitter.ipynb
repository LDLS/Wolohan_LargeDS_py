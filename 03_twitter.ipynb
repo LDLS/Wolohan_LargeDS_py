{
 "cells": [
  {
   "cell_type": "markdown",
   "metadata": {},
   "source": [
    "# Twitter gender prediction"
   ]
  },
  {
   "cell_type": "code",
   "execution_count": 1,
   "metadata": {},
   "outputs": [],
   "source": [
    "from toolz import pipe, compose\n",
    "import twitter\n",
    "import json\n",
    "from joblib import Parallel, delayed\n",
    "import tqdm"
   ]
  },
  {
   "cell_type": "code",
   "execution_count": 2,
   "metadata": {},
   "outputs": [],
   "source": [
    "with open(\"tokens.json\") as f:\n",
    "    tokens = json.load(f)\n",
    "\n",
    "Twitter = twitter.Api(**tokens)\n",
    "\n",
    "def get_tweet_from_id(tweet_id, api=Twitter):\n",
    "    try:\n",
    "        tweet = api.GetStatus(tweet_id, trim_user=True)\n",
    "    except TwitterError:\n",
    "        tweet = None\n",
    "    return tweet\n",
    "\n",
    "def tweet_to_text(tweet):\n",
    "    return tweet.text\n",
    "\n",
    "def tokenize_text(text):\n",
    "    return text.split()\n",
    "\n",
    "def score_text(tokens):\n",
    "    lexicon = {\"the\": 1, \"to\": 1, \"and\": 1,\n",
    "               \"in\": 1, \"have\": 1, \"it\": 1,\n",
    "               \"be\": -1, \"of\": -1, \"a\": -1,\n",
    "               \"that\": -1, \"i\": -1, \"for\": -1}\n",
    "    return sum(map(lambda x: lexicon.get(x, 0), tokens))\n",
    "\n",
    "def score_tweet(tweet_id):\n",
    "    pipeline = pipe(tweet_id,\n",
    "                    get_tweet_from_id,\n",
    "                    tweet_to_text,\n",
    "                    tokenize_text,\n",
    "                    score_text)\n",
    "    return pipeline\n",
    "\n",
    "def score_user(tweets):\n",
    "    N = len(tweets)\n",
    "    total = sum(map(score_tweet, tweets))\n",
    "    return total/N\n",
    "\n",
    "def categorize_user(user_score):\n",
    "    if user_score > 0:\n",
    "        return {\"score\": user_score,\n",
    "                \"gender\": \"Male\"}\n",
    "    return {\"score\": user_score,\n",
    "            \"gender\": \"Female\"}\n",
    "\n",
    "pipeline = compose(categorize_user, score_user)"
   ]
  },
  {
   "cell_type": "code",
   "execution_count": 3,
   "metadata": {},
   "outputs": [],
   "source": [
    "users_tweets = [\n",
    "    [1056365937547534341, 1056310126255034368, 1055985345341251584,\n",
    "     1056585873989394432, 1056585871623966720],\n",
    "    [1055986452612419584, 1056318330037002240, 1055957256162942977,\n",
    "     1056585921154420736, 1056585896898805766],\n",
    "#    [1056240773572771841, 1056184836900175874, 1056367465477951490,\n",
    "#     1056585972765224960, 1056585968155684864],\n",
    "    [1056452187897786368, 1056314736546115584, 1055172336062816258,\n",
    "     1056585983175602176, 1056585980881207297]]"
   ]
  },
  {
   "cell_type": "code",
   "execution_count": 4,
   "metadata": {},
   "outputs": [
    {
     "name": "stderr",
     "output_type": "stream",
     "text": [
      "100%|██████████| 3/3 [00:00<00:00, 79.91it/s]\n"
     ]
    }
   ],
   "source": [
    "iter_job = tqdm.tqdm(users_tweets)\n",
    "user_gender_predict = (Parallel(n_jobs=-2)(delayed(pipeline)(t) for t in iter_job))"
   ]
  },
  {
   "cell_type": "code",
   "execution_count": 5,
   "metadata": {},
   "outputs": [
    {
     "data": {
      "text/plain": [
       "[{'score': -0.4, 'gender': 'Female'},\n",
       " {'score': 0.0, 'gender': 'Female'},\n",
       " {'score': -0.4, 'gender': 'Female'}]"
      ]
     },
     "execution_count": 5,
     "metadata": {},
     "output_type": "execute_result"
    }
   ],
   "source": [
    "user_gender_predict"
   ]
  }
 ],
 "metadata": {
  "kernelspec": {
   "display_name": "ir-models",
   "language": "python",
   "name": "ir-models"
  },
  "language_info": {
   "codemirror_mode": {
    "name": "ipython",
    "version": 3
   },
   "file_extension": ".py",
   "mimetype": "text/x-python",
   "name": "python",
   "nbconvert_exporter": "python",
   "pygments_lexer": "ipython3",
   "version": "3.6.9"
  }
 },
 "nbformat": 4,
 "nbformat_minor": 4
}
