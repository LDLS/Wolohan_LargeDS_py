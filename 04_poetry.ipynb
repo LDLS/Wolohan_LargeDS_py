{
 "cells": [
  {
   "cell_type": "code",
   "execution_count": 1,
   "metadata": {},
   "outputs": [],
   "source": [
    "import re\n",
    "from itertools import chain\n",
    "from toolz import frequencies\n",
    "from glob import iglob\n",
    "from joblib import Parallel, delayed\n",
    "import tqdm\n",
    "import numpy as np"
   ]
  },
  {
   "cell_type": "code",
   "execution_count": 2,
   "metadata": {},
   "outputs": [],
   "source": [
    "class PoemCleaner():\n",
    "    def __init__(self):\n",
    "        self.r = re.compile(r'[^\\w{ }]|_+')\n",
    "\n",
    "    def clean_poem(self, fp):\n",
    "        with open(fp) as poem:\n",
    "            no_punc = self.r.sub(\"\", poem.read())\n",
    "            return no_punc.lower().split()\n",
    "        \n",
    "def word_is_desired(w):\n",
    "    return w in [\"a\",\"the\"]\n",
    "\n",
    "def word_ratio(d):\n",
    "    ratio = float(d.get(\"a\", 0)) / float(d.get(\"the\", 0.0001))\n",
    "    return ratio\n",
    "\n",
    "def analyze_poems(poems, cleaner):\n",
    "    cleaned_poems = chain(*map(cleaner.clean_poem, poems))\n",
    "    desired_words = filter(word_is_desired, cleaned_poems)\n",
    "    desired_word_freqs = frequencies(desired_words)\n",
    "    return word_ratio(desired_word_freqs)"
   ]
  },
  {
   "cell_type": "code",
   "execution_count": 3,
   "metadata": {},
   "outputs": [
    {
     "name": "stdout",
     "output_type": "stream",
     "text": [
      "Original_Poem: 0.3 \n",
      "Author A: 0.41 \n",
      "Author B: 0.21\n"
     ]
    }
   ],
   "source": [
    "author_a_poems = iglob(\"input/author_a/*.txt\")\n",
    "author_b_poems = iglob(\"input/author_b/*.txt\")\n",
    "cleaner = PoemCleaner()\n",
    "author_a_ratio = analyze_poems(author_a_poems, cleaner)\n",
    "author_b_ratio = analyze_poems(author_b_poems, cleaner)\n",
    "\n",
    "print(f'Original_Poem: 0.3 \\n'\n",
    "      f'Author A: {author_a_ratio:.2f} \\n'\n",
    "      f'Author B: {author_b_ratio:.2f}')"
   ]
  }
 ],
 "metadata": {
  "kernelspec": {
   "display_name": "ir-models",
   "language": "python",
   "name": "ir-models"
  },
  "language_info": {
   "codemirror_mode": {
    "name": "ipython",
    "version": 3
   },
   "file_extension": ".py",
   "mimetype": "text/x-python",
   "name": "python",
   "nbconvert_exporter": "python",
   "pygments_lexer": "ipython3",
   "version": "3.6.9"
  }
 },
 "nbformat": 4,
 "nbformat_minor": 4
}
