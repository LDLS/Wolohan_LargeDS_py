{
 "cells": [
  {
   "cell_type": "markdown",
   "metadata": {},
   "source": [
    "# Wiki knwoledge graph"
   ]
  },
  {
   "cell_type": "code",
   "execution_count": 1,
   "metadata": {},
   "outputs": [],
   "source": [
    "import json\n",
    "from joblib import Parallel, delayed\n",
    "from tqdm import tqdm\n",
    "from urllib import request, parse\n",
    "from itertools import chain\n",
    "import networkx as nx"
   ]
  },
  {
   "cell_type": "code",
   "execution_count": 2,
   "metadata": {},
   "outputs": [],
   "source": [
    "def link_to_title(link):\n",
    "    return link[\"title\"]\n",
    "\n",
    "def clean_if_key(page, key):\n",
    "    if key in page.keys():\n",
    "        return map(link_to_title, page[key])\n",
    "    else: return []\n",
    "    \n",
    "def get_wiki_links(pageTitle):\n",
    "    safe_title = parse.quote(pageTitle)\n",
    "    url = \"https://en.wikipedia.org/w/api.php?action=query&\"\\\n",
    "          \"prop=links|linkshere&pllimit=500&lhlimit=500&titles={}&\"\\\n",
    "          \"format=json&formatversion=2\".format(safe_title)\n",
    "    page = request.urlopen(url).read()\n",
    "    j = json.loads(page)\n",
    "    jpage = j[\"query\"][\"pages\"][0]\n",
    "    inbound = clean_if_key(jpage, \"links\")\n",
    "    outbound = clean_if_key(jpage, \"linkshere\")\n",
    "    pagelinks = {\"title\": pageTitle,\n",
    "                \"in-links\": list(inbound),\n",
    "                \"out-links\": list(outbound)}\n",
    "    return pagelinks\n",
    "\n",
    "def flatten_network(page):\n",
    "    return page[\"in-links\"] + page[\"out-links\"]\n",
    "\n",
    "def page_to_edges(page):\n",
    "    a = [(page[\"title\"], p) for p in page[\"out-links\"]]\n",
    "    b = [(p, page[\"title\"]) for p in page[\"in-links\"]]\n",
    "    return a + b"
   ]
  },
  {
   "cell_type": "code",
   "execution_count": 3,
   "metadata": {},
   "outputs": [
    {
     "name": "stdout",
     "output_type": "stream",
     "text": [
      "Wall time: 1.59 s\n"
     ]
    }
   ],
   "source": [
    "%%time\n",
    "root = get_wiki_links(\"Parallel_computing\")\n",
    "initial_network = flatten_network(root)"
   ]
  },
  {
   "cell_type": "code",
   "execution_count": 4,
   "metadata": {},
   "outputs": [
    {
     "name": "stderr",
     "output_type": "stream",
     "text": [
      "100%|████████████████████████████████████████████████| 895/895 [01:06<00:00, 13.50it/s]\n"
     ]
    }
   ],
   "source": [
    "init_iterable = tqdm(initial_network)\n",
    "wiki_links_worker = delayed(get_wiki_links)\n",
    "all_pages = (Parallel(n_jobs=-2)(wiki_links_worker(l) for l in init_iterable))"
   ]
  },
  {
   "cell_type": "code",
   "execution_count": 6,
   "metadata": {
    "scrolled": true
   },
   "outputs": [
    {
     "name": "stderr",
     "output_type": "stream",
     "text": [
      "100%|███████████████████████████████████████████████| 895/895 [00:06<00:00, 132.74it/s]\n"
     ]
    }
   ],
   "source": [
    "pages_iterable = tqdm(all_pages)\n",
    "edges = (Parallel(n_jobs=-2)(delayed(page_to_edges)(p) for p in pages_iterable))"
   ]
  },
  {
   "cell_type": "code",
   "execution_count": 7,
   "metadata": {},
   "outputs": [
    {
     "name": "stdout",
     "output_type": "stream",
     "text": [
      "Wall time: 2.33 s\n"
     ]
    }
   ],
   "source": [
    "%%time\n",
    "edges = chain.from_iterable(edges)\n",
    "G = nx.DiGraph()\n",
    "for e in edges:\n",
    "    G.add_edge(*e)"
   ]
  },
  {
   "cell_type": "code",
   "execution_count": 8,
   "metadata": {},
   "outputs": [],
   "source": [
    "nx.readwrite.gexf.write_gexf(G,\"/output/02_wiki.gexf\")"
   ]
  }
 ],
 "metadata": {
  "kernelspec": {
   "display_name": "py36",
   "language": "python",
   "name": "py36"
  },
  "language_info": {
   "codemirror_mode": {
    "name": "ipython",
    "version": 3
   },
   "file_extension": ".py",
   "mimetype": "text/x-python",
   "name": "python",
   "nbconvert_exporter": "python",
   "pygments_lexer": "ipython3",
   "version": "3.6.10"
  }
 },
 "nbformat": 4,
 "nbformat_minor": 4
}
